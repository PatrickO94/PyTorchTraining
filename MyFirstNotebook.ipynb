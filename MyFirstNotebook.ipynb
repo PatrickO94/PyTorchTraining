{
 "cells": [
  {
   "cell_type": "code",
   "execution_count": 2,
   "metadata": {},
   "outputs": [
    {
     "name": "stdout",
     "output_type": "stream",
     "text": [
      "Hello Python World!\n"
     ]
    }
   ],
   "source": [
    "print('Hello Python World!')"
   ]
  },
  {
   "cell_type": "code",
   "execution_count": 4,
   "metadata": {},
   "outputs": [
    {
     "name": "stdout",
     "output_type": "stream",
     "text": [
      "Hello Python World!\n"
     ]
    }
   ],
   "source": [
    "message = \"Hello Python World!\"\n",
    "print(message)"
   ]
  },
  {
   "cell_type": "code",
   "execution_count": 6,
   "metadata": {},
   "outputs": [
    {
     "name": "stdout",
     "output_type": "stream",
     "text": [
      "hello \"youtuber\"\n"
     ]
    }
   ],
   "source": [
    "print('hello \"youtuber\"')"
   ]
  },
  {
   "cell_type": "code",
   "execution_count": 8,
   "metadata": {},
   "outputs": [
    {
     "name": "stdout",
     "output_type": "stream",
     "text": [
      "hello 'youtuber'\n"
     ]
    }
   ],
   "source": [
    "print(\"hello 'youtuber'\")"
   ]
  },
  {
   "cell_type": "code",
   "execution_count": 18,
   "metadata": {},
   "outputs": [
    {
     "name": "stdout",
     "output_type": "stream",
     "text": [
      "Stuff\n",
      "More Stuff\n",
      "Nothing\n",
      "A Gun\n",
      "Trash\n",
      "Toys\n",
      "Ur Mom\n"
     ]
    }
   ],
   "source": [
    "box_of_fun_things = ['stuff', 'more stuff', 'nothing', 'a gun', 'trash', 'toys', 'uR mOm']\n",
    "for thing in box_of_fun_things:\n",
    "    print(thing.title())"
   ]
  },
  {
   "cell_type": "code",
   "execution_count": 20,
   "metadata": {},
   "outputs": [],
   "source": [
    "import this"
   ]
  },
  {
   "cell_type": "code",
   "execution_count": 39,
   "metadata": {},
   "outputs": [
    {
     "name": "stdout",
     "output_type": "stream",
     "text": [
      "23.5 ['a', 'b', 'c', 'd', 'e'] range(1, 11)\n",
      "2\n",
      "range(1, 11)\n"
     ]
    }
   ],
   "source": [
    "# A line broken by backslash\n",
    "a = 7 * 3 + \\\n",
    "5 / 2\n",
    "\n",
    "# A list (broken by comma)\n",
    "b = ['a', 'b', 'c', \n",
    "'d', 'e']\n",
    "\n",
    "# A function call (broken by comma)\n",
    "c = range(1,\n",
    "         11)\n",
    "     \n",
    "\n",
    "# Prints everything\n",
    "print (a, b, c)\n",
    "print (c[1])\n",
    "print(range(1,11))"
   ]
  },
  {
   "cell_type": "code",
   "execution_count": 43,
   "metadata": {},
   "outputs": [
    {
     "name": "stdout",
     "output_type": "stream",
     "text": [
      "Hot\n"
     ]
    }
   ],
   "source": [
    "temp = 33 # temperature value used to test\n",
    "\n",
    "if temp < 0:\n",
    "    print('Freezing...')\n",
    "elif 0 <= temp <= 20:\n",
    "    print ('Cold')\n",
    "elif 21 <= temp <= 25:\n",
    "    print ('Normal')\n",
    "elif 26 <= temp <= 35:\n",
    "    print ('Hot')\n",
    "else:\n",
    "    print ('Very Hot!')"
   ]
  },
  {
   "cell_type": "code",
   "execution_count": null,
   "metadata": {
    "collapsed": true
   },
   "outputs": [],
   "source": [
    " "
   ]
  }
 ],
 "metadata": {
  "kernelspec": {
   "display_name": "Python 3",
   "language": "python",
   "name": "python3"
  },
  "language_info": {
   "codemirror_mode": {
    "name": "ipython",
    "version": 3
   },
   "file_extension": ".py",
   "mimetype": "text/x-python",
   "name": "python",
   "nbconvert_exporter": "python",
   "pygments_lexer": "ipython3",
   "version": "3.6.3"
  }
 },
 "nbformat": 4,
 "nbformat_minor": 2
}
